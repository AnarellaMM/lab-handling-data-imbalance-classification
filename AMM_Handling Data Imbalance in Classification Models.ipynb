{
 "cells": [
  {
   "cell_type": "markdown",
   "id": "a2c4c322-1b10-42cf-b30b-3775bf7ed9aa",
   "metadata": {},
   "source": [
    "**<font size=\"5\">AMM Handling Data Imbalance in Classification Models</font>**"
   ]
  },
  {
   "cell_type": "code",
   "execution_count": 1,
   "id": "35776dbb-e454-483e-bc4c-978ccdf8800d",
   "metadata": {},
   "outputs": [],
   "source": [
    "import pandas as pd\n",
    "from sklearn.model_selection import train_test_split\n",
    "from sklearn.preprocessing import StandardScaler\n",
    "from sklearn.linear_model import LogisticRegression\n",
    "from sklearn.metrics import accuracy_score\n",
    "from sklearn.utils import resample"
   ]
  },
  {
   "cell_type": "code",
   "execution_count": 4,
   "id": "6d9f2f5b-8f09-45d1-9071-5c3f09a3446e",
   "metadata": {},
   "outputs": [
    {
     "name": "stdout",
     "output_type": "stream",
     "text": [
      "      gender  SeniorCitizen Partner Dependents  tenure PhoneService   \n",
      "0     Female              0     Yes         No       1           No  \\\n",
      "1       Male              0      No         No      34          Yes   \n",
      "2       Male              0      No         No       2          Yes   \n",
      "3       Male              0      No         No      45           No   \n",
      "4     Female              0      No         No       2          Yes   \n",
      "...      ...            ...     ...        ...     ...          ...   \n",
      "7038    Male              0     Yes        Yes      24          Yes   \n",
      "7039  Female              0     Yes        Yes      72          Yes   \n",
      "7040  Female              0     Yes        Yes      11           No   \n",
      "7041    Male              1     Yes         No       4          Yes   \n",
      "7042    Male              0      No         No      66          Yes   \n",
      "\n",
      "     OnlineSecurity OnlineBackup DeviceProtection TechSupport StreamingTV   \n",
      "0                No          Yes               No          No          No  \\\n",
      "1               Yes           No              Yes          No          No   \n",
      "2               Yes          Yes               No          No          No   \n",
      "3               Yes           No              Yes         Yes          No   \n",
      "4                No           No               No          No          No   \n",
      "...             ...          ...              ...         ...         ...   \n",
      "7038            Yes           No              Yes         Yes         Yes   \n",
      "7039             No          Yes              Yes          No         Yes   \n",
      "7040            Yes           No               No          No          No   \n",
      "7041             No           No               No          No          No   \n",
      "7042            Yes           No              Yes         Yes         Yes   \n",
      "\n",
      "     StreamingMovies        Contract  MonthlyCharges TotalCharges Churn  \n",
      "0                 No  Month-to-month           29.85        29.85    No  \n",
      "1                 No        One year           56.95       1889.5    No  \n",
      "2                 No  Month-to-month           53.85       108.15   Yes  \n",
      "3                 No        One year           42.30      1840.75    No  \n",
      "4                 No  Month-to-month           70.70       151.65   Yes  \n",
      "...              ...             ...             ...          ...   ...  \n",
      "7038             Yes        One year           84.80       1990.5    No  \n",
      "7039             Yes        One year          103.20       7362.9    No  \n",
      "7040              No  Month-to-month           29.60       346.45    No  \n",
      "7041              No  Month-to-month           74.40        306.6   Yes  \n",
      "7042             Yes        Two year          105.65       6844.5    No  \n",
      "\n",
      "[7043 rows x 16 columns]\n"
     ]
    }
   ],
   "source": [
    "churnData = pd.read_csv('Customer-Churn.csv')\n",
    "print(churnData)"
   ]
  },
  {
   "cell_type": "code",
   "execution_count": 5,
   "id": "a16a7c5c-2f10-4cbc-8344-b53931ac2cdf",
   "metadata": {},
   "outputs": [],
   "source": [
    "churnData['TotalCharges'] = pd.to_numeric(churnData['TotalCharges'], errors='coerce')"
   ]
  },
  {
   "cell_type": "code",
   "execution_count": 7,
   "id": "ab7b5844-b411-472e-9e8c-2df2553a2f4e",
   "metadata": {},
   "outputs": [],
   "source": [
    "churnData.dropna(inplace=True)"
   ]
  },
  {
   "cell_type": "code",
   "execution_count": 8,
   "id": "ecfdbc2f-8185-4676-b5e3-f8904e0f07b6",
   "metadata": {},
   "outputs": [],
   "source": [
    "features = ['tenure', 'SeniorCitizen', 'MonthlyCharges', 'TotalCharges']\n",
    "X = churnData[features]\n",
    "scaler = StandardScaler()\n",
    "X_scaled = scaler.fit_transform(X)"
   ]
  },
  {
   "cell_type": "code",
   "execution_count": 9,
   "id": "5695eccd-8f36-4b89-856f-0e12ad1a564e",
   "metadata": {},
   "outputs": [],
   "source": [
    "y = churnData['Churn']\n",
    "X_train, X_test, y_train, y_test = train_test_split(X_scaled, y, test_size=0.2, random_state=42)"
   ]
  },
  {
   "cell_type": "code",
   "execution_count": 10,
   "id": "2c0e051c-0587-45e8-9878-035b0fbe3ee3",
   "metadata": {},
   "outputs": [
    {
     "data": {
      "text/html": [
       "<style>#sk-container-id-1 {color: black;background-color: white;}#sk-container-id-1 pre{padding: 0;}#sk-container-id-1 div.sk-toggleable {background-color: white;}#sk-container-id-1 label.sk-toggleable__label {cursor: pointer;display: block;width: 100%;margin-bottom: 0;padding: 0.3em;box-sizing: border-box;text-align: center;}#sk-container-id-1 label.sk-toggleable__label-arrow:before {content: \"▸\";float: left;margin-right: 0.25em;color: #696969;}#sk-container-id-1 label.sk-toggleable__label-arrow:hover:before {color: black;}#sk-container-id-1 div.sk-estimator:hover label.sk-toggleable__label-arrow:before {color: black;}#sk-container-id-1 div.sk-toggleable__content {max-height: 0;max-width: 0;overflow: hidden;text-align: left;background-color: #f0f8ff;}#sk-container-id-1 div.sk-toggleable__content pre {margin: 0.2em;color: black;border-radius: 0.25em;background-color: #f0f8ff;}#sk-container-id-1 input.sk-toggleable__control:checked~div.sk-toggleable__content {max-height: 200px;max-width: 100%;overflow: auto;}#sk-container-id-1 input.sk-toggleable__control:checked~label.sk-toggleable__label-arrow:before {content: \"▾\";}#sk-container-id-1 div.sk-estimator input.sk-toggleable__control:checked~label.sk-toggleable__label {background-color: #d4ebff;}#sk-container-id-1 div.sk-label input.sk-toggleable__control:checked~label.sk-toggleable__label {background-color: #d4ebff;}#sk-container-id-1 input.sk-hidden--visually {border: 0;clip: rect(1px 1px 1px 1px);clip: rect(1px, 1px, 1px, 1px);height: 1px;margin: -1px;overflow: hidden;padding: 0;position: absolute;width: 1px;}#sk-container-id-1 div.sk-estimator {font-family: monospace;background-color: #f0f8ff;border: 1px dotted black;border-radius: 0.25em;box-sizing: border-box;margin-bottom: 0.5em;}#sk-container-id-1 div.sk-estimator:hover {background-color: #d4ebff;}#sk-container-id-1 div.sk-parallel-item::after {content: \"\";width: 100%;border-bottom: 1px solid gray;flex-grow: 1;}#sk-container-id-1 div.sk-label:hover label.sk-toggleable__label {background-color: #d4ebff;}#sk-container-id-1 div.sk-serial::before {content: \"\";position: absolute;border-left: 1px solid gray;box-sizing: border-box;top: 0;bottom: 0;left: 50%;z-index: 0;}#sk-container-id-1 div.sk-serial {display: flex;flex-direction: column;align-items: center;background-color: white;padding-right: 0.2em;padding-left: 0.2em;position: relative;}#sk-container-id-1 div.sk-item {position: relative;z-index: 1;}#sk-container-id-1 div.sk-parallel {display: flex;align-items: stretch;justify-content: center;background-color: white;position: relative;}#sk-container-id-1 div.sk-item::before, #sk-container-id-1 div.sk-parallel-item::before {content: \"\";position: absolute;border-left: 1px solid gray;box-sizing: border-box;top: 0;bottom: 0;left: 50%;z-index: -1;}#sk-container-id-1 div.sk-parallel-item {display: flex;flex-direction: column;z-index: 1;position: relative;background-color: white;}#sk-container-id-1 div.sk-parallel-item:first-child::after {align-self: flex-end;width: 50%;}#sk-container-id-1 div.sk-parallel-item:last-child::after {align-self: flex-start;width: 50%;}#sk-container-id-1 div.sk-parallel-item:only-child::after {width: 0;}#sk-container-id-1 div.sk-dashed-wrapped {border: 1px dashed gray;margin: 0 0.4em 0.5em 0.4em;box-sizing: border-box;padding-bottom: 0.4em;background-color: white;}#sk-container-id-1 div.sk-label label {font-family: monospace;font-weight: bold;display: inline-block;line-height: 1.2em;}#sk-container-id-1 div.sk-label-container {text-align: center;}#sk-container-id-1 div.sk-container {/* jupyter's `normalize.less` sets `[hidden] { display: none; }` but bootstrap.min.css set `[hidden] { display: none !important; }` so we also need the `!important` here to be able to override the default hidden behavior on the sphinx rendered scikit-learn.org. See: https://github.com/scikit-learn/scikit-learn/issues/21755 */display: inline-block !important;position: relative;}#sk-container-id-1 div.sk-text-repr-fallback {display: none;}</style><div id=\"sk-container-id-1\" class=\"sk-top-container\"><div class=\"sk-text-repr-fallback\"><pre>LogisticRegression()</pre><b>In a Jupyter environment, please rerun this cell to show the HTML representation or trust the notebook. <br />On GitHub, the HTML representation is unable to render, please try loading this page with nbviewer.org.</b></div><div class=\"sk-container\" hidden><div class=\"sk-item\"><div class=\"sk-estimator sk-toggleable\"><input class=\"sk-toggleable__control sk-hidden--visually\" id=\"sk-estimator-id-1\" type=\"checkbox\" checked><label for=\"sk-estimator-id-1\" class=\"sk-toggleable__label sk-toggleable__label-arrow\">LogisticRegression</label><div class=\"sk-toggleable__content\"><pre>LogisticRegression()</pre></div></div></div></div></div>"
      ],
      "text/plain": [
       "LogisticRegression()"
      ]
     },
     "execution_count": 10,
     "metadata": {},
     "output_type": "execute_result"
    }
   ],
   "source": [
    "model = LogisticRegression()\n",
    "model.fit(X_train, y_train)"
   ]
  },
  {
   "cell_type": "code",
   "execution_count": 11,
   "id": "01dbc288-06e2-4193-b6ae-8d608035fad3",
   "metadata": {},
   "outputs": [
    {
     "name": "stdout",
     "output_type": "stream",
     "text": [
      "Accuracy (Unbalanced): 0.7803837953091685\n"
     ]
    }
   ],
   "source": [
    "y_pred = model.predict(X_test)\n",
    "accuracy_unbalanced = accuracy_score(y_test, y_pred)\n",
    "print(\"Accuracy (Unbalanced):\", accuracy_unbalanced)"
   ]
  },
  {
   "cell_type": "code",
   "execution_count": 12,
   "id": "d80e1b56-9c8a-4179-b487-61b00f06964d",
   "metadata": {},
   "outputs": [
    {
     "name": "stdout",
     "output_type": "stream",
     "text": [
      "Class Distribution:\n",
      " Churn\n",
      "No     4130\n",
      "Yes    1495\n",
      "Name: count, dtype: int64\n"
     ]
    }
   ],
   "source": [
    "print(\"Class Distribution:\\n\", y_train.value_counts())"
   ]
  },
  {
   "cell_type": "markdown",
   "id": "05fca905-fc20-4b07-a1b6-cc47e8b6dd56",
   "metadata": {},
   "source": [
    "The class distribution shows how many customers are in each category of churn:\n",
    "\n",
    "**No**: There are 4,130 customers who have not churned, which means they are still using the service.\n",
    "\n",
    "**Ye**s: There are 1,495 customers who have churned, which means they have stopped using the service.\n",
    "\n",
    "In simpler terms, there are more customers who haven't left the service (4,130) compared to those who have left (1,495). This difference in numbers between the two categories represents the imbalance in the data, where one category (No) is much larger than the other (Yes)."
   ]
  },
  {
   "cell_type": "code",
   "execution_count": 13,
   "id": "5b759970-167c-4c48-9540-cb4cca64321b",
   "metadata": {},
   "outputs": [],
   "source": [
    "df_majority = churnData[churnData['Churn'] == 'No']\n",
    "df_minority = churnData[churnData['Churn'] == 'Yes']\n",
    "\n",
    "df_minority_upsampled = resample(df_minority, replace=True, n_samples=len(df_majority), random_state=42)\n",
    "\n",
    "# Combine the upsampled minority class with the majority class\n",
    "churnData_upsampled = pd.concat([df_majority, df_minority_upsampled])\n",
    "\n",
    "# Downsample the majority class\n",
    "df_majority_downsampled = resample(df_majority, replace=False, n_samples=len(df_minority), random_state=42)\n",
    "\n",
    "# Combine the downsampled majority class with the minority class\n",
    "churnData_downsampled = pd.concat([df_minority, df_majority_downsampled])"
   ]
  },
  {
   "cell_type": "code",
   "execution_count": 14,
   "id": "c20bade5-f0c1-4a58-86d0-109ffbe997a5",
   "metadata": {},
   "outputs": [
    {
     "name": "stdout",
     "output_type": "stream",
     "text": [
      "Accuracy (Upsampled): 0.6687988628287136\n",
      "Accuracy (Downsampled): 0.6723525230987918\n"
     ]
    }
   ],
   "source": [
    "X_upsampled = scaler.fit_transform(churnData_upsampled[features])\n",
    "y_upsampled = churnData_upsampled['Churn']\n",
    "\n",
    "X_downsampled = scaler.fit_transform(churnData_downsampled[features])\n",
    "y_downsampled = churnData_downsampled['Churn']\n",
    "\n",
    "# Fit models on upsampled and downsampled data\n",
    "model_upsampled = LogisticRegression()\n",
    "model_upsampled.fit(X_upsampled, y_upsampled)\n",
    "\n",
    "model_downsampled = LogisticRegression()\n",
    "model_downsampled.fit(X_downsampled, y_downsampled)\n",
    "\n",
    "# Evaluate accuracy\n",
    "y_pred_upsampled = model_upsampled.predict(X_test)\n",
    "accuracy_upsampled = accuracy_score(y_test, y_pred_upsampled)\n",
    "print(\"Accuracy (Upsampled):\", accuracy_upsampled)\n",
    "\n",
    "y_pred_downsampled = model_downsampled.predict(X_test)\n",
    "accuracy_downsampled = accuracy_score(y_test, y_pred_downsampled)\n",
    "print(\"Accuracy (Downsampled):\", accuracy_downsampled)"
   ]
  },
  {
   "cell_type": "markdown",
   "id": "a2ded968-78e3-4de0-9bfc-420d22c3ec4d",
   "metadata": {},
   "source": [
    "**Upsampled Model Accuracy:** The model trained on the upsampled data correctly predicted about 67% of the outcomes. This means that when we used a technique to balance the number of \"Churn\" and \"No Churn\" cases in the data, the model's accuracy improved, but it's still not highly accurate.\n",
    "\n",
    "**Downsampled Model Accuracy:** The model trained on the downsampled data also achieved an accuracy of around 67%. This result indicates that even when we reduced the number of \"No Churn\" cases to match the number of \"Churn\" cases, the accuracy remained at a similar level.\n",
    "\n",
    "In simpler terms, both the upsampled and downsampled models improved the accuracy compared to the initial unbalanced model, but the improvement is not very large. This suggests that while balancing the data helps, there might be other factors affecting the model's performance as well."
   ]
  },
  {
   "cell_type": "markdown",
   "id": "86cd0bc7-f077-4867-9351-f25b9871ffb0",
   "metadata": {},
   "source": [
    "**Conclusion**\n",
    "\n",
    "In this analysis, we looked at customer churn data to identify trends that could help us predict whether customers will leave the service (\"Churn\") or continue using it (\"No Churn\"). We started with an unbalanced dataset, where there were more \"No Churn\" cases than \"Churn\" cases.\n",
    "\n",
    "We used techniques to balance the data, both by creating more \"Churn\" cases (upsampling) and by reducing \"No Churn\" cases (downsampling). After training models on these balanced datasets, we found that the accuracy improved slightly compared to the unbalanced model.\n",
    "\n",
    "However, the accuracy levels achieved were around 67% for both upsampled and downsampled models, suggesting that while balancing the data improved predictions, there are still other factors at play affecting the model's performance.\n",
    "\n",
    "In conclusion, while balancing the data is a step in the right direction, achieving higher accuracy might require exploring other techniques, considering additional features, or trying different types of machine learning models. The complex nature of predicting customer churn suggests that a holistic approach is needed to build a more accurate predictive model."
   ]
  },
  {
   "cell_type": "code",
   "execution_count": null,
   "id": "9a9eeaea-bc63-47a5-9147-f93c58ea2588",
   "metadata": {},
   "outputs": [],
   "source": []
  }
 ],
 "metadata": {
  "kernelspec": {
   "display_name": "Python 3 (ipykernel)",
   "language": "python",
   "name": "python3"
  },
  "language_info": {
   "codemirror_mode": {
    "name": "ipython",
    "version": 3
   },
   "file_extension": ".py",
   "mimetype": "text/x-python",
   "name": "python",
   "nbconvert_exporter": "python",
   "pygments_lexer": "ipython3",
   "version": "3.10.9"
  }
 },
 "nbformat": 4,
 "nbformat_minor": 5
}
